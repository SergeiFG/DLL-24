{
 "cells": [
  {
   "cell_type": "code",
   "execution_count": 1,
   "id": "2f106aa7-a0c9-41fc-8e23-e473f351e872",
   "metadata": {},
   "outputs": [],
   "source": [
    "import pandas as pd\n",
    "from gensim.models import Word2Vec\n",
    "import re\n",
    "import matplotlib.pyplot as plt\n",
    "import spacy\n",
    "import multiprocessing\n",
    "import umap\n",
    "from collections import defaultdict"
   ]
  },
  {
   "cell_type": "markdown",
   "id": "51119ddd-a955-47e2-81cc-d1cc1c4513f4",
   "metadata": {},
   "source": [
    "# Подготовка данных"
   ]
  },
  {
   "cell_type": "markdown",
   "id": "c2f29c74-2c35-4b5b-987a-dd9271a15cc3",
   "metadata": {},
   "source": [
    "Загружаем файл с репликами, будем использовать ненормализованный текст, поробуем нормализовать и разбить на токены сами"
   ]
  },
  {
   "cell_type": "code",
   "execution_count": 2,
   "id": "f906fd87-86b6-4187-9e9d-f0e76b4463bd",
   "metadata": {},
   "outputs": [
    {
     "name": "stderr",
     "output_type": "stream",
     "text": [
      "C:\\Users\\anana\\AppData\\Local\\Temp\\ipykernel_11724\\3075530586.py:1: DtypeWarning: Columns (4,5,6) have mixed types. Specify dtype option on import or set low_memory=False.\n",
      "  df = pd.read_csv(\"simpsons_script_lines.csv\", on_bad_lines='skip')\n"
     ]
    },
    {
     "data": {
      "text/html": [
       "<div>\n",
       "<style scoped>\n",
       "    .dataframe tbody tr th:only-of-type {\n",
       "        vertical-align: middle;\n",
       "    }\n",
       "\n",
       "    .dataframe tbody tr th {\n",
       "        vertical-align: top;\n",
       "    }\n",
       "\n",
       "    .dataframe thead th {\n",
       "        text-align: right;\n",
       "    }\n",
       "</style>\n",
       "<table border=\"1\" class=\"dataframe\">\n",
       "  <thead>\n",
       "    <tr style=\"text-align: right;\">\n",
       "      <th></th>\n",
       "      <th>id</th>\n",
       "      <th>episode_id</th>\n",
       "      <th>number</th>\n",
       "      <th>raw_text</th>\n",
       "      <th>timestamp_in_ms</th>\n",
       "      <th>speaking_line</th>\n",
       "      <th>character_id</th>\n",
       "      <th>location_id</th>\n",
       "      <th>raw_character_text</th>\n",
       "      <th>raw_location_text</th>\n",
       "      <th>spoken_words</th>\n",
       "      <th>normalized_text</th>\n",
       "      <th>word_count</th>\n",
       "    </tr>\n",
       "  </thead>\n",
       "  <tbody>\n",
       "    <tr>\n",
       "      <th>0</th>\n",
       "      <td>9549</td>\n",
       "      <td>32</td>\n",
       "      <td>209</td>\n",
       "      <td>Miss Hoover: No, actually, it was a little of ...</td>\n",
       "      <td>848000</td>\n",
       "      <td>True</td>\n",
       "      <td>464.0</td>\n",
       "      <td>3.0</td>\n",
       "      <td>Miss Hoover</td>\n",
       "      <td>Springfield Elementary School</td>\n",
       "      <td>No, actually, it was a little of both. Sometim...</td>\n",
       "      <td>no actually it was a little of both sometimes ...</td>\n",
       "      <td>31.0</td>\n",
       "    </tr>\n",
       "    <tr>\n",
       "      <th>1</th>\n",
       "      <td>9550</td>\n",
       "      <td>32</td>\n",
       "      <td>210</td>\n",
       "      <td>Lisa Simpson: (NEAR TEARS) Where's Mr. Bergstrom?</td>\n",
       "      <td>856000</td>\n",
       "      <td>True</td>\n",
       "      <td>9.0</td>\n",
       "      <td>3.0</td>\n",
       "      <td>Lisa Simpson</td>\n",
       "      <td>Springfield Elementary School</td>\n",
       "      <td>Where's Mr. Bergstrom?</td>\n",
       "      <td>wheres mr bergstrom</td>\n",
       "      <td>3.0</td>\n",
       "    </tr>\n",
       "    <tr>\n",
       "      <th>2</th>\n",
       "      <td>9551</td>\n",
       "      <td>32</td>\n",
       "      <td>211</td>\n",
       "      <td>Miss Hoover: I don't know. Although I'd sure l...</td>\n",
       "      <td>856000</td>\n",
       "      <td>True</td>\n",
       "      <td>464.0</td>\n",
       "      <td>3.0</td>\n",
       "      <td>Miss Hoover</td>\n",
       "      <td>Springfield Elementary School</td>\n",
       "      <td>I don't know. Although I'd sure like to talk t...</td>\n",
       "      <td>i dont know although id sure like to talk to h...</td>\n",
       "      <td>22.0</td>\n",
       "    </tr>\n",
       "    <tr>\n",
       "      <th>3</th>\n",
       "      <td>9552</td>\n",
       "      <td>32</td>\n",
       "      <td>212</td>\n",
       "      <td>Lisa Simpson: That life is worth living.</td>\n",
       "      <td>864000</td>\n",
       "      <td>True</td>\n",
       "      <td>9.0</td>\n",
       "      <td>3.0</td>\n",
       "      <td>Lisa Simpson</td>\n",
       "      <td>Springfield Elementary School</td>\n",
       "      <td>That life is worth living.</td>\n",
       "      <td>that life is worth living</td>\n",
       "      <td>5.0</td>\n",
       "    </tr>\n",
       "    <tr>\n",
       "      <th>4</th>\n",
       "      <td>9553</td>\n",
       "      <td>32</td>\n",
       "      <td>213</td>\n",
       "      <td>Edna Krabappel-Flanders: The polls will be ope...</td>\n",
       "      <td>864000</td>\n",
       "      <td>True</td>\n",
       "      <td>40.0</td>\n",
       "      <td>3.0</td>\n",
       "      <td>Edna Krabappel-Flanders</td>\n",
       "      <td>Springfield Elementary School</td>\n",
       "      <td>The polls will be open from now until the end ...</td>\n",
       "      <td>the polls will be open from now until the end ...</td>\n",
       "      <td>33.0</td>\n",
       "    </tr>\n",
       "    <tr>\n",
       "      <th>...</th>\n",
       "      <td>...</td>\n",
       "      <td>...</td>\n",
       "      <td>...</td>\n",
       "      <td>...</td>\n",
       "      <td>...</td>\n",
       "      <td>...</td>\n",
       "      <td>...</td>\n",
       "      <td>...</td>\n",
       "      <td>...</td>\n",
       "      <td>...</td>\n",
       "      <td>...</td>\n",
       "      <td>...</td>\n",
       "      <td>...</td>\n",
       "    </tr>\n",
       "    <tr>\n",
       "      <th>158243</th>\n",
       "      <td>9544</td>\n",
       "      <td>32</td>\n",
       "      <td>204</td>\n",
       "      <td>Miss Hoover: (OFF LISA'S REACTION) I'm back.</td>\n",
       "      <td>831000</td>\n",
       "      <td>true</td>\n",
       "      <td>464</td>\n",
       "      <td>3.0</td>\n",
       "      <td>Miss Hoover</td>\n",
       "      <td>Springfield Elementary School</td>\n",
       "      <td>I'm back.</td>\n",
       "      <td>im back</td>\n",
       "      <td>2.0</td>\n",
       "    </tr>\n",
       "    <tr>\n",
       "      <th>158244</th>\n",
       "      <td>9545</td>\n",
       "      <td>32</td>\n",
       "      <td>205</td>\n",
       "      <td>Miss Hoover: You see, class, my Lyme disease t...</td>\n",
       "      <td>839000</td>\n",
       "      <td>true</td>\n",
       "      <td>464</td>\n",
       "      <td>3.0</td>\n",
       "      <td>Miss Hoover</td>\n",
       "      <td>Springfield Elementary School</td>\n",
       "      <td>You see, class, my Lyme disease turned out to ...</td>\n",
       "      <td>you see class my lyme disease turned out to be</td>\n",
       "      <td>10.0</td>\n",
       "    </tr>\n",
       "    <tr>\n",
       "      <th>158245</th>\n",
       "      <td>9546</td>\n",
       "      <td>32</td>\n",
       "      <td>206</td>\n",
       "      <td>Miss Hoover: Psy-cho-so-ma-tic.</td>\n",
       "      <td>842000</td>\n",
       "      <td>true</td>\n",
       "      <td>464</td>\n",
       "      <td>3.0</td>\n",
       "      <td>Miss Hoover</td>\n",
       "      <td>Springfield Elementary School</td>\n",
       "      <td>Psy-cho-so-ma-tic.</td>\n",
       "      <td>psy-cho-so-ma-tic</td>\n",
       "      <td>1.0</td>\n",
       "    </tr>\n",
       "    <tr>\n",
       "      <th>158246</th>\n",
       "      <td>9547</td>\n",
       "      <td>32</td>\n",
       "      <td>207</td>\n",
       "      <td>Ralph Wiggum: Does that mean you were crazy?</td>\n",
       "      <td>844000</td>\n",
       "      <td>true</td>\n",
       "      <td>119</td>\n",
       "      <td>3.0</td>\n",
       "      <td>Ralph Wiggum</td>\n",
       "      <td>Springfield Elementary School</td>\n",
       "      <td>Does that mean you were crazy?</td>\n",
       "      <td>does that mean you were crazy</td>\n",
       "      <td>6.0</td>\n",
       "    </tr>\n",
       "    <tr>\n",
       "      <th>158247</th>\n",
       "      <td>9548</td>\n",
       "      <td>32</td>\n",
       "      <td>208</td>\n",
       "      <td>JANEY: No, that means she was faking it.</td>\n",
       "      <td>845000</td>\n",
       "      <td>true</td>\n",
       "      <td>4</td>\n",
       "      <td>3.0</td>\n",
       "      <td>JANEY</td>\n",
       "      <td>Springfield Elementary School</td>\n",
       "      <td>No, that means she was faking it.</td>\n",
       "      <td>no that means she was faking it</td>\n",
       "      <td>7.0</td>\n",
       "    </tr>\n",
       "  </tbody>\n",
       "</table>\n",
       "<p>158248 rows × 13 columns</p>\n",
       "</div>"
      ],
      "text/plain": [
       "          id  episode_id  number  \\\n",
       "0       9549          32     209   \n",
       "1       9550          32     210   \n",
       "2       9551          32     211   \n",
       "3       9552          32     212   \n",
       "4       9553          32     213   \n",
       "...      ...         ...     ...   \n",
       "158243  9544          32     204   \n",
       "158244  9545          32     205   \n",
       "158245  9546          32     206   \n",
       "158246  9547          32     207   \n",
       "158247  9548          32     208   \n",
       "\n",
       "                                                 raw_text timestamp_in_ms  \\\n",
       "0       Miss Hoover: No, actually, it was a little of ...          848000   \n",
       "1       Lisa Simpson: (NEAR TEARS) Where's Mr. Bergstrom?          856000   \n",
       "2       Miss Hoover: I don't know. Although I'd sure l...          856000   \n",
       "3                Lisa Simpson: That life is worth living.          864000   \n",
       "4       Edna Krabappel-Flanders: The polls will be ope...          864000   \n",
       "...                                                   ...             ...   \n",
       "158243       Miss Hoover: (OFF LISA'S REACTION) I'm back.          831000   \n",
       "158244  Miss Hoover: You see, class, my Lyme disease t...          839000   \n",
       "158245                    Miss Hoover: Psy-cho-so-ma-tic.          842000   \n",
       "158246       Ralph Wiggum: Does that mean you were crazy?          844000   \n",
       "158247           JANEY: No, that means she was faking it.          845000   \n",
       "\n",
       "       speaking_line character_id  location_id       raw_character_text  \\\n",
       "0               True        464.0          3.0              Miss Hoover   \n",
       "1               True          9.0          3.0             Lisa Simpson   \n",
       "2               True        464.0          3.0              Miss Hoover   \n",
       "3               True          9.0          3.0             Lisa Simpson   \n",
       "4               True         40.0          3.0  Edna Krabappel-Flanders   \n",
       "...              ...          ...          ...                      ...   \n",
       "158243          true          464          3.0              Miss Hoover   \n",
       "158244          true          464          3.0              Miss Hoover   \n",
       "158245          true          464          3.0              Miss Hoover   \n",
       "158246          true          119          3.0             Ralph Wiggum   \n",
       "158247          true            4          3.0                    JANEY   \n",
       "\n",
       "                    raw_location_text  \\\n",
       "0       Springfield Elementary School   \n",
       "1       Springfield Elementary School   \n",
       "2       Springfield Elementary School   \n",
       "3       Springfield Elementary School   \n",
       "4       Springfield Elementary School   \n",
       "...                               ...   \n",
       "158243  Springfield Elementary School   \n",
       "158244  Springfield Elementary School   \n",
       "158245  Springfield Elementary School   \n",
       "158246  Springfield Elementary School   \n",
       "158247  Springfield Elementary School   \n",
       "\n",
       "                                             spoken_words  \\\n",
       "0       No, actually, it was a little of both. Sometim...   \n",
       "1                                  Where's Mr. Bergstrom?   \n",
       "2       I don't know. Although I'd sure like to talk t...   \n",
       "3                              That life is worth living.   \n",
       "4       The polls will be open from now until the end ...   \n",
       "...                                                   ...   \n",
       "158243                                          I'm back.   \n",
       "158244  You see, class, my Lyme disease turned out to ...   \n",
       "158245                                 Psy-cho-so-ma-tic.   \n",
       "158246                     Does that mean you were crazy?   \n",
       "158247                  No, that means she was faking it.   \n",
       "\n",
       "                                          normalized_text  word_count  \n",
       "0       no actually it was a little of both sometimes ...        31.0  \n",
       "1                                     wheres mr bergstrom         3.0  \n",
       "2       i dont know although id sure like to talk to h...        22.0  \n",
       "3                               that life is worth living         5.0  \n",
       "4       the polls will be open from now until the end ...        33.0  \n",
       "...                                                   ...         ...  \n",
       "158243                                            im back         2.0  \n",
       "158244     you see class my lyme disease turned out to be        10.0  \n",
       "158245                                  psy-cho-so-ma-tic         1.0  \n",
       "158246                      does that mean you were crazy         6.0  \n",
       "158247                    no that means she was faking it         7.0  \n",
       "\n",
       "[158248 rows x 13 columns]"
      ]
     },
     "execution_count": 2,
     "metadata": {},
     "output_type": "execute_result"
    }
   ],
   "source": [
    "df = pd.read_csv(\"simpsons_script_lines.csv\", on_bad_lines='skip')\n",
    "df"
   ]
  },
  {
   "cell_type": "code",
   "execution_count": 3,
   "id": "98057967-452a-4d2c-88e0-50c4d832b0e6",
   "metadata": {},
   "outputs": [
    {
     "data": {
      "text/plain": [
       "0         No, actually, it was a little of both. Sometim...\n",
       "1                                    Where's Mr. Bergstrom?\n",
       "2         I don't know. Although I'd sure like to talk t...\n",
       "3                                That life is worth living.\n",
       "4         The polls will be open from now until the end ...\n",
       "                                ...                        \n",
       "158243                                            I'm back.\n",
       "158244    You see, class, my Lyme disease turned out to ...\n",
       "158245                                   Psy-cho-so-ma-tic.\n",
       "158246                       Does that mean you were crazy?\n",
       "158247                    No, that means she was faking it.\n",
       "Name: spoken_words, Length: 158248, dtype: object"
      ]
     },
     "execution_count": 3,
     "metadata": {},
     "output_type": "execute_result"
    }
   ],
   "source": [
    "df = df.spoken_words\n",
    "df"
   ]
  },
  {
   "cell_type": "markdown",
   "id": "12bb7f89-f375-4d1d-88ea-25b42c47c7d5",
   "metadata": {},
   "source": [
    "Уберём все пустые строки"
   ]
  },
  {
   "cell_type": "code",
   "execution_count": 4,
   "id": "4f6dd3da-5984-4daa-b9c7-55fbadf85d99",
   "metadata": {},
   "outputs": [
    {
     "data": {
      "text/plain": [
       "26159"
      ]
     },
     "execution_count": 4,
     "metadata": {},
     "output_type": "execute_result"
    }
   ],
   "source": [
    "df.isnull().sum()"
   ]
  },
  {
   "cell_type": "code",
   "execution_count": 5,
   "id": "f8bfc1a5-3463-4ecd-93cd-fd78f3091626",
   "metadata": {},
   "outputs": [
    {
     "data": {
      "text/plain": [
       "0"
      ]
     },
     "execution_count": 5,
     "metadata": {},
     "output_type": "execute_result"
    }
   ],
   "source": [
    "df = df.dropna().reset_index(drop=True)\n",
    "df.isnull().sum()"
   ]
  },
  {
   "cell_type": "markdown",
   "id": "666ae486-2fe8-450e-854a-1b54cb95051b",
   "metadata": {},
   "source": [
    "Убираем лишние знаки, всё пишем нижним регистром"
   ]
  },
  {
   "cell_type": "code",
   "execution_count": 6,
   "id": "f5476f93-422f-4810-abab-29823dc6e25f",
   "metadata": {},
   "outputs": [
    {
     "name": "stdout",
     "output_type": "stream",
     "text": [
      "no actually it was a little of both sometimes when a disease is in all the magazines and all the news shows it's only natural that you think you have it \n",
      "where's mr bergstrom \n",
      "i don't know although i'd sure like to talk to him he didn't touch my lesson plan what did he teach you \n"
     ]
    }
   ],
   "source": [
    "norm1 = (re.sub(\"[^A-Za-z']+\", ' ', str(row)).lower() for row in df)\n",
    "print(next(norm1))\n",
    "print(next(norm1))\n",
    "print(next(norm1))"
   ]
  },
  {
   "cell_type": "markdown",
   "id": "1740fa0a-3d17-4156-8ae2-c94ed87e23c7",
   "metadata": {},
   "source": [
    "Нормальную форму слов возьмём из сисблиотеки spaCy"
   ]
  },
  {
   "cell_type": "code",
   "execution_count": 7,
   "id": "13c5e916-bc20-4d2e-9136-00bcbe82493e",
   "metadata": {},
   "outputs": [],
   "source": [
    "nlp = spacy.load(\"en_core_web_sm\")\n",
    "\n",
    "def cleaning(doc):\n",
    "    txt = [token.lemma_ for token in doc if not token.is_stop]\n",
    "    if len(txt) > 2:\n",
    "        return ' '.join(txt)"
   ]
  },
  {
   "cell_type": "code",
   "execution_count": 8,
   "id": "b957f99e-bf18-4705-8d63-24d96e947aa1",
   "metadata": {},
   "outputs": [],
   "source": [
    "pipe = nlp.pipe(norm1, batch_size=5000)\n",
    "txt = [cleaning(doc) for doc in pipe]"
   ]
  },
  {
   "cell_type": "code",
   "execution_count": 9,
   "id": "7ed1fdee-99d3-4b19-8f5c-f51489edeb8e",
   "metadata": {
    "scrolled": true
   },
   "outputs": [
    {
     "data": {
      "text/plain": [
       "['life worth live',\n",
       " 'poll open end recess case decide thought final statement martin',\n",
       " None,\n",
       " None,\n",
       " 'victory party slide',\n",
       " 'mr bergstrom mr bergstrom',\n",
       " 'hey hey move morning new job take copernicus costume',\n",
       " None,\n",
       " 'think take train capital city',\n",
       " 'train like traditional environmentally sound']"
      ]
     },
     "execution_count": 9,
     "metadata": {},
     "output_type": "execute_result"
    }
   ],
   "source": [
    "txt[0:10]"
   ]
  },
  {
   "cell_type": "markdown",
   "id": "89d77b75-8b29-476c-b5a2-4f5e1a695c20",
   "metadata": {},
   "source": [
    "Снова убираем пустые строки (в которых было меньше 3 токенов)"
   ]
  },
  {
   "cell_type": "code",
   "execution_count": 10,
   "id": "02fecead-d6d2-42b5-9862-7f0168d9027b",
   "metadata": {},
   "outputs": [
    {
     "data": {
      "text/html": [
       "<div>\n",
       "<style scoped>\n",
       "    .dataframe tbody tr th:only-of-type {\n",
       "        vertical-align: middle;\n",
       "    }\n",
       "\n",
       "    .dataframe tbody tr th {\n",
       "        vertical-align: top;\n",
       "    }\n",
       "\n",
       "    .dataframe thead th {\n",
       "        text-align: right;\n",
       "    }\n",
       "</style>\n",
       "<table border=\"1\" class=\"dataframe\">\n",
       "  <thead>\n",
       "    <tr style=\"text-align: right;\">\n",
       "      <th></th>\n",
       "      <th>clean</th>\n",
       "    </tr>\n",
       "  </thead>\n",
       "  <tbody>\n",
       "    <tr>\n",
       "      <th>0</th>\n",
       "      <td>life worth live</td>\n",
       "    </tr>\n",
       "    <tr>\n",
       "      <th>1</th>\n",
       "      <td>poll open end recess case decide thought final...</td>\n",
       "    </tr>\n",
       "    <tr>\n",
       "      <th>4</th>\n",
       "      <td>victory party slide</td>\n",
       "    </tr>\n",
       "    <tr>\n",
       "      <th>5</th>\n",
       "      <td>mr bergstrom mr bergstrom</td>\n",
       "    </tr>\n",
       "    <tr>\n",
       "      <th>6</th>\n",
       "      <td>hey hey move morning new job take copernicus c...</td>\n",
       "    </tr>\n",
       "    <tr>\n",
       "      <th>...</th>\n",
       "      <td>...</td>\n",
       "    </tr>\n",
       "    <tr>\n",
       "      <th>132062</th>\n",
       "      <td>oh mom wonderful find favorite dish help</td>\n",
       "    </tr>\n",
       "    <tr>\n",
       "      <th>132068</th>\n",
       "      <td>dye shoe pink</td>\n",
       "    </tr>\n",
       "    <tr>\n",
       "      <th>132079</th>\n",
       "      <td>mr bergstrom request pleasure company mr bergs...</td>\n",
       "    </tr>\n",
       "    <tr>\n",
       "      <th>132082</th>\n",
       "      <td>class lyme disease turn</td>\n",
       "    </tr>\n",
       "    <tr>\n",
       "      <th>132083</th>\n",
       "      <td>psy cho ma tic</td>\n",
       "    </tr>\n",
       "  </tbody>\n",
       "</table>\n",
       "<p>86142 rows × 1 columns</p>\n",
       "</div>"
      ],
      "text/plain": [
       "                                                    clean\n",
       "0                                         life worth live\n",
       "1       poll open end recess case decide thought final...\n",
       "4                                     victory party slide\n",
       "5                               mr bergstrom mr bergstrom\n",
       "6       hey hey move morning new job take copernicus c...\n",
       "...                                                   ...\n",
       "132062           oh mom wonderful find favorite dish help\n",
       "132068                                      dye shoe pink\n",
       "132079  mr bergstrom request pleasure company mr bergs...\n",
       "132082                            class lyme disease turn\n",
       "132083                                     psy cho ma tic\n",
       "\n",
       "[86142 rows x 1 columns]"
      ]
     },
     "execution_count": 10,
     "metadata": {},
     "output_type": "execute_result"
    }
   ],
   "source": [
    "df_clean = pd.DataFrame({'clean': txt})\n",
    "df_clean = df_clean.dropna().drop_duplicates()\n",
    "df_clean"
   ]
  },
  {
   "cell_type": "code",
   "execution_count": 11,
   "id": "1170ade4-eaa5-48f0-aceb-c08c4bce9663",
   "metadata": {},
   "outputs": [],
   "source": [
    "sentences = [row.split(' ') for row in df_clean.clean]"
   ]
  },
  {
   "cell_type": "code",
   "execution_count": 12,
   "id": "ca440a7b-23be-40e1-92f2-f50d4e79449b",
   "metadata": {},
   "outputs": [
    {
     "data": {
      "text/plain": [
       "[['life', 'worth', 'live'],\n",
       " ['poll',\n",
       "  'open',\n",
       "  'end',\n",
       "  'recess',\n",
       "  'case',\n",
       "  'decide',\n",
       "  'thought',\n",
       "  'final',\n",
       "  'statement',\n",
       "  'martin'],\n",
       " ['victory', 'party', 'slide']]"
      ]
     },
     "execution_count": 12,
     "metadata": {},
     "output_type": "execute_result"
    }
   ],
   "source": [
    "sentences[0:3]"
   ]
  },
  {
   "cell_type": "markdown",
   "id": "02e71bd8-8059-4e97-801b-52528278f766",
   "metadata": {},
   "source": [
    "Выделяем наиболее часто встречаемые слова"
   ]
  },
  {
   "cell_type": "code",
   "execution_count": 13,
   "id": "fa3c0648-8fcd-4e4c-b496-efec09f411bf",
   "metadata": {},
   "outputs": [],
   "source": [
    "word_freq = defaultdict(int)\n",
    "for sent in sentences:\n",
    "    for i in sent:\n",
    "        word_freq[i] += 1"
   ]
  },
  {
   "cell_type": "code",
   "execution_count": 14,
   "id": "a8948d45-36a4-4241-a5bf-61ab68ebf2a6",
   "metadata": {},
   "outputs": [],
   "source": [
    "frequent_words = sorted(word_freq, key=word_freq.get, reverse=True)[:1000]"
   ]
  },
  {
   "cell_type": "markdown",
   "id": "e6635273-fa8f-4608-bc2b-669f92dfde27",
   "metadata": {},
   "source": [
    "# Word2Vec"
   ]
  },
  {
   "cell_type": "markdown",
   "id": "96b20c00-d9d8-41ce-9a9b-84de45596dbe",
   "metadata": {},
   "source": [
    "Определение word2vec модели, словаря, и обучение модели"
   ]
  },
  {
   "cell_type": "code",
   "execution_count": 15,
   "id": "b01ee116-7964-43f6-bb05-0e4f38417b8e",
   "metadata": {},
   "outputs": [
    {
     "data": {
      "text/plain": [
       "16"
      ]
     },
     "execution_count": 15,
     "metadata": {},
     "output_type": "execute_result"
    }
   ],
   "source": [
    "cores = multiprocessing.cpu_count()\n",
    "cores"
   ]
  },
  {
   "cell_type": "code",
   "execution_count": 16,
   "id": "15ccb179-b04a-4d47-aaa4-e0f4422304e4",
   "metadata": {},
   "outputs": [],
   "source": [
    "w2v_model = Word2Vec(min_count=20,\n",
    "                     window=3,\n",
    "                     vector_size=300, \n",
    "                     alpha=0.01, \n",
    "                     min_alpha=0.0005, \n",
    "                     negative=30,\n",
    "                     workers=cores-1)"
   ]
  },
  {
   "cell_type": "code",
   "execution_count": 17,
   "id": "e1b0a7da-7efe-4a71-9ffa-db87bbedc6ea",
   "metadata": {},
   "outputs": [],
   "source": [
    "w2v_model.build_vocab(sentences)"
   ]
  },
  {
   "cell_type": "code",
   "execution_count": 18,
   "id": "e3f9d05a-956f-4abe-80f4-c9311979085e",
   "metadata": {},
   "outputs": [
    {
     "data": {
      "text/plain": [
       "(40370357, 54200000)"
      ]
     },
     "execution_count": 18,
     "metadata": {},
     "output_type": "execute_result"
    }
   ],
   "source": [
    "w2v_model.train(sentences, total_examples=w2v_model.corpus_count, epochs=100)"
   ]
  },
  {
   "cell_type": "markdown",
   "id": "4da1f465-39f0-4eb4-9e91-2f3ddd4e831c",
   "metadata": {},
   "source": [
    "# Результаты"
   ]
  },
  {
   "cell_type": "markdown",
   "id": "498bbfbe-e881-46dd-9f4c-90efd9d88872",
   "metadata": {},
   "source": [
    "посмотрим, что наша модель выдаст на запросы  homer - marge + bart bart - lisa + school marge - homer + home"
   ]
  },
  {
   "cell_type": "code",
   "execution_count": 19,
   "id": "4e63bdbd-c4a6-4442-afed-c78a7458b25e",
   "metadata": {},
   "outputs": [
    {
     "data": {
      "text/plain": [
       "[('lisa', 0.38775724172592163),\n",
       " ('mr', 0.3255671262741089),\n",
       " ('grampa', 0.3154710829257965)]"
      ]
     },
     "execution_count": 19,
     "metadata": {},
     "output_type": "execute_result"
    }
   ],
   "source": [
    "w2v_model.wv.most_similar(positive=[\"homer\", \"bart\"], negative=[\"marge\"], topn=3)"
   ]
  },
  {
   "cell_type": "code",
   "execution_count": 20,
   "id": "2189a091-ff5c-4a01-bdf7-4c359aa6353c",
   "metadata": {},
   "outputs": [
    {
     "data": {
      "text/plain": [
       "[('grade', 0.2609248459339142),\n",
       " ('kid', 0.2591269016265869),\n",
       " ('bully', 0.2579725980758667)]"
      ]
     },
     "execution_count": 20,
     "metadata": {},
     "output_type": "execute_result"
    }
   ],
   "source": [
    "w2v_model.wv.most_similar(positive=[\"bart\", \"school\"], negative=[\"lisa\"], topn=3)"
   ]
  },
  {
   "cell_type": "code",
   "execution_count": 21,
   "id": "99cdaebf-5114-4ace-8569-50b3a5421c40",
   "metadata": {},
   "outputs": [
    {
     "data": {
      "text/plain": [
       "[('homie', 0.33789652585983276),\n",
       " ('honey', 0.3063820004463196),\n",
       " ('kid', 0.26662009954452515)]"
      ]
     },
     "execution_count": 21,
     "metadata": {},
     "output_type": "execute_result"
    }
   ],
   "source": [
    "w2v_model.wv.most_similar(positive=[\"marge\", \"home\"], negative=[\"homer\"], topn=3)"
   ]
  },
  {
   "cell_type": "markdown",
   "id": "26064596-bb8e-4d06-b0b5-15956cdeef69",
   "metadata": {},
   "source": [
    "На первый запрос результат получился хороший, на следующие как минимум интересный"
   ]
  },
  {
   "cell_type": "code",
   "execution_count": 22,
   "id": "ca674258-4880-4192-b951-cb33ec4880b5",
   "metadata": {},
   "outputs": [],
   "source": [
    "fit = umap.UMAP()\n",
    "data = [w2v_model.wv[word] for word in frequent_words]\n",
    "u = fit.fit_transform(data)"
   ]
  },
  {
   "cell_type": "code",
   "execution_count": 24,
   "id": "6b94c27f-6412-4918-b6ff-83117633703b",
   "metadata": {},
   "outputs": [
    {
     "data": {
      "image/png": "[encoded data removed]",
      "text/plain": [
       "<Figure size 640x480 with 1 Axes>"
      ]
     },
     "metadata": {},
     "output_type": "display_data"
    }
   ],
   "source": [
    "plt.scatter(u[:,0], u[:,1])\n",
    "plt.title(\"Визуализация эмбедингов 1000 наиболее частых слов\")\n",
    "plt.show()"
   ]
  },
  {
   "cell_type": "code",
   "execution_count": null,
   "id": "dc73e1c3-8dda-4bcc-a676-199aad9cb635",
   "metadata": {},
   "outputs": [],
   "source": []
  }
 ],
 "metadata": {
  "kernelspec": {
   "display_name": "Python 3 (ipykernel)",
   "language": "python",
   "name": "python3"
  },
  "language_info": {
   "codemirror_mode": {
    "name": "ipython",
    "version": 3
   },
   "file_extension": ".py",
   "mimetype": "text/x-python",
   "name": "python",
   "nbconvert_exporter": "python",
   "pygments_lexer": "ipython3",
   "version": "3.10.7"
  }
 },
 "nbformat": 4,
 "nbformat_minor": 5
}
