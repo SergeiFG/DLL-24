{
 "cells": [
  {
   "cell_type": "code",
   "execution_count": 1,
   "id": "97f3050e-fa8b-482a-b44e-8bc3e60d3b85",
   "metadata": {},
   "outputs": [],
   "source": [
    "import re\n",
    "import math\n",
    "import numpy as np\n",
    "import random\n",
    "import torch\n",
    "from sklearn.model_selection import train_test_split\n",
    "from torchinfo import summary\n",
    "import time\n",
    "import matplotlib.pyplot as plt"
   ]
  },
  {
   "cell_type": "code",
   "execution_count": 2,
   "id": "c5480be7-1160-40d8-a11f-6a1dafb0403c",
   "metadata": {},
   "outputs": [
    {
     "data": {
      "text/plain": [
       "'cuda'"
      ]
     },
     "execution_count": 2,
     "metadata": {},
     "output_type": "execute_result"
    }
   ],
   "source": [
    "device = 'cuda' if torch.cuda.is_available() else 'cpu'\n",
    "device"
   ]
  },
  {
   "cell_type": "markdown",
   "id": "fd30da8f-2ce3-4b75-997e-2450d1cbf172",
   "metadata": {},
   "source": [
    "## Подготовка данных"
   ]
  },
  {
   "cell_type": "markdown",
   "id": "f520402c-08d2-420d-be28-0104a92a2dfb",
   "metadata": {},
   "source": [
    "Нормализуем текст и разделим его на предложения"
   ]
  },
  {
   "cell_type": "code",
   "execution_count": 3,
   "id": "dc848ff3-ee3e-45f0-b2a3-c895601f022d",
   "metadata": {},
   "outputs": [],
   "source": [
    "def normalize_and_split_sentences(file_path, file_path2):\n",
    "    # Чтение содержимого файла\n",
    "    with open(file_path, 'r') as file:\n",
    "        content = file.read()\n",
    "\n",
    "    # Приведение текста к нижнему регистру\n",
    "    content = content.lower()\n",
    "\n",
    "    # Удаление нежелательных символов и знаков препинания\n",
    "    content = re.sub(r'[^а-яА-Я0-9\\s\\.?!]', '', content)\n",
    "\n",
    "    # Удаление лишних пробелов и пробельных символов\n",
    "    content = re.sub(r'\\s+', ' ', content)\n",
    "    \n",
    "    # Разделение текста на предложения\n",
    "    sentences = re.split(r'[.!?]', content)\n",
    "\n",
    "    # Удаление пустых предложений\n",
    "    sentences = [sentence.strip() for sentence in sentences if sentence.strip()]\n",
    "\n",
    "    # Запись нормализованных предложений в файл\n",
    "    with open(file_path2, 'w') as file:\n",
    "        file.write('\\n'.join(sentences))\n"
   ]
  },
  {
   "cell_type": "code",
   "execution_count": 4,
   "id": "8c4b6985-2746-4793-bf9f-baf91c417192",
   "metadata": {
    "scrolled": true
   },
   "outputs": [],
   "source": [
    "file_path = 'text_raw.txt'\n",
    "normalize_and_split_sentences(file_path, 'text_new.txt')"
   ]
  },
  {
   "cell_type": "markdown",
   "id": "5168bd7f-8f0f-4a28-82cb-bc6143c9bf82",
   "metadata": {},
   "source": [
    "Определяем словарь символов"
   ]
  },
  {
   "cell_type": "code",
   "execution_count": 5,
   "id": "7b834035-f461-4180-a073-c8727fd2c451",
   "metadata": {},
   "outputs": [],
   "source": [
    "CHARS = 'абвгдежзийклмнопрстуфхцчшщьыъэюя1234567890 '\n",
    "INDEX_TO_CHAR =  [w for w in CHARS] + ['none']\n",
    "CHARS_NUM = len(INDEX_TO_CHAR)\n",
    "CHAR_TO_INDEX = {w: i for i, w in enumerate(INDEX_TO_CHAR)}\n",
    "MAX_LENGTH = 50\n",
    "MAX_SHIFT = 15"
   ]
  },
  {
   "cell_type": "markdown",
   "id": "dca009af-35c4-4f0d-8b20-adb539a7e6c9",
   "metadata": {},
   "source": [
    "Функция кодировки кодом Цезаря"
   ]
  },
  {
   "cell_type": "code",
   "execution_count": 6,
   "id": "38d4de11-635a-43ef-afa5-a6b97b32938f",
   "metadata": {},
   "outputs": [],
   "source": [
    "def Ceasar(line, shift):\n",
    "    index_line = ['none']*MAX_LENGTH\n",
    "    for i in range(min(len(line), MAX_LENGTH)):\n",
    "        index_line[i] = line[i]\n",
    "    index_line = list(map(lambda x: CHAR_TO_INDEX.get(x, CHAR_TO_INDEX['none']), index_line))    \n",
    "    for i, ch in enumerate(index_line):\n",
    "        if ch not in [CHARS_NUM-1, CHARS_NUM-2]:\n",
    "            index_line[i] = (ch + shift) % (len(INDEX_TO_CHAR)-2)\n",
    "    return torch.tensor(index_line)\n"
   ]
  },
  {
   "cell_type": "markdown",
   "id": "fc32112c-3315-42c6-8f27-6f2ad984f778",
   "metadata": {},
   "source": [
    "Проверим качество работы функции, ожидаем получить циклический сдвиг на 3 символа, без учёта пробелов и none элементов"
   ]
  },
  {
   "cell_type": "code",
   "execution_count": 7,
   "id": "a3ab6e0b-2432-4b14-bcb7-a7246ce0ae1b",
   "metadata": {},
   "outputs": [
    {
     "name": "stdout",
     "output_type": "stream",
     "text": [
      " Тестируем работу на стоке [' ', 'а', 'б', 'в', 'г', ' ', 'э', 'ю', 'я', ' ', '8', '9', '0'], \n",
      " получаем [' ', 'г', 'д', 'е', 'ж', ' ', '1', '2', '3', ' ', 'а', 'б', 'в', 'none', 'none', 'none', 'none', 'none', 'none', 'none', 'none', 'none', 'none', 'none', 'none', 'none', 'none', 'none', 'none', 'none', 'none', 'none', 'none', 'none', 'none', 'none', 'none', 'none', 'none', 'none', 'none', 'none', 'none', 'none', 'none', 'none', 'none', 'none', 'none', 'none']\n"
     ]
    }
   ],
   "source": [
    "work_test = ' абвг эюя 890'\n",
    "res = Ceasar(work_test, 3)\n",
    "print(f' Тестируем работу на стоке {list(work_test)}, \\n получаем {list(map(lambda x: INDEX_TO_CHAR[x], res))}')"
   ]
  },
  {
   "cell_type": "markdown",
   "id": "59d0c07d-0d9e-41ff-ae41-dd77ff2aa230",
   "metadata": {},
   "source": [
    "## Создание датасета"
   ]
  },
  {
   "cell_type": "code",
   "execution_count": 8,
   "id": "9b8b0d22-910c-45a5-888d-e0dc973910d8",
   "metadata": {
    "scrolled": true
   },
   "outputs": [],
   "source": [
    "Data_raw = []\n",
    "with open('text_new.txt', 'r') as fp:\n",
    "    for line in fp:\n",
    "        K = random.randint(1, MAX_SHIFT)\n",
    "        Data_raw.append(tuple([Ceasar(line, K), Ceasar(line, 0)]))\n"
   ]
  },
  {
   "cell_type": "markdown",
   "id": "71394f35-a322-45fd-a41e-138d31d2e0c1",
   "metadata": {},
   "source": [
    "Разделим датасет на обучающую и тестовую выборку в пропорции 8:2"
   ]
  },
  {
   "cell_type": "code",
   "execution_count": 9,
   "id": "02623083-1114-4ab9-b15c-a9ce289b81f0",
   "metadata": {},
   "outputs": [],
   "source": [
    "Data_train, Data_test = train_test_split(Data_raw, test_size=0.2)"
   ]
  },
  {
   "cell_type": "markdown",
   "id": "01b2629c-95f8-4c8a-8ef8-a3e22e5d6e75",
   "metadata": {},
   "source": [
    "Посмотрим, в каком виде хранятся прдложения"
   ]
  },
  {
   "cell_type": "code",
   "execution_count": 10,
   "id": "dbc217a5-1e93-4244-96b9-708486ae5c03",
   "metadata": {},
   "outputs": [
    {
     "data": {
      "text/plain": [
       "(tensor([ 1, 42, 17, 32,  5, 15, 13, 42, 18,  3,  6, 17, 11,  1, 12,  1, 42,  3,\n",
       "          9, 19, 17,  9, 14,  1, 42, 16, 17, 15,  5, 15,  3, 15, 12, 27, 18, 19,\n",
       "          3,  6, 14, 14, 15,  4, 15, 42, 13,  1,  4,  1,  8,  9]),\n",
       " tensor([ 0, 42, 16, 31,  4, 14, 12, 42, 17,  2,  5, 16, 10,  0, 11,  0, 42,  2,\n",
       "          8, 18, 16,  8, 13,  0, 42, 15, 16, 14,  4, 14,  2, 14, 11, 26, 17, 18,\n",
       "          2,  5, 13, 13, 14,  3, 14, 42, 12,  0,  3,  0,  7,  8]))"
      ]
     },
     "execution_count": 10,
     "metadata": {},
     "output_type": "execute_result"
    }
   ],
   "source": [
    "Data_train[12]"
   ]
  },
  {
   "cell_type": "code",
   "execution_count": 11,
   "id": "8e1a6b81-7a0c-4e92-91ea-3b7eb81e5f5a",
   "metadata": {},
   "outputs": [],
   "source": [
    "Train = torch.utils.data.DataLoader(Data_train, batch_size=50, shuffle=True)\n",
    "Test = torch.utils.data.DataLoader(Data_test, batch_size=50)"
   ]
  },
  {
   "cell_type": "markdown",
   "id": "14af92cc-c6f4-41b8-9f26-d76760160ac4",
   "metadata": {},
   "source": [
    "Посмотрим пример зашифрованного и дешифрованного сообщения"
   ]
  },
  {
   "cell_type": "code",
   "execution_count": 12,
   "id": "30b977be-26e4-454f-9f03-438b3f5a2f2e",
   "metadata": {},
   "outputs": [
    {
     "name": "stdout",
     "output_type": "stream",
     "text": [
      "н   ч у   ъ ч у   ч 1   ф у й ш с е р е   у ж у   з ц к с none none none none none none none none none none none none none none none none none none none none none\n",
      "и   т о   ч т о   т ы   п о д у м а л а   о б о   в с е м none none none none none none none none none none none none none none none none none none none none none\n"
     ]
    }
   ],
   "source": [
    "X, Y = next(iter(Train))\n",
    "X, Y = X[-1], Y[-1]\n",
    "print(*list(map(lambda x: INDEX_TO_CHAR[x], X)))\n",
    "print(*list(map(lambda x: INDEX_TO_CHAR[x], Y)))\n"
   ]
  },
  {
   "cell_type": "markdown",
   "id": "95c80be6-2f65-4855-a292-c49852f75e50",
   "metadata": {},
   "source": [
    "Для отслеживания работы нейросети определим тестовое сообщение"
   ]
  },
  {
   "cell_type": "code",
   "execution_count": 13,
   "id": "2715b386-312d-4ddd-9a19-82e961de5eef",
   "metadata": {},
   "outputs": [],
   "source": [
    "check = 'здесь мы проверяем качество работы нейросети'\n",
    "def test_sentence(test_sentence):\n",
    "    K = random.randint(1, MAX_SHIFT)\n",
    "    return Ceasar(test_sentence, K).unsqueeze(0)"
   ]
  },
  {
   "cell_type": "code",
   "execution_count": 14,
   "id": "da1c283b-21da-4a8c-8806-4dd2937a5ceb",
   "metadata": {},
   "outputs": [
    {
     "name": "stdout",
     "output_type": "stream",
     "text": [
      "torch.Size([1, 50])\n",
      "torch.int64\n",
      "tensor([[14, 11, 12, 24, 33, 42, 19, 34, 42, 22, 23, 21,  9, 12, 23, 38, 12, 19,\n",
      "         42, 17,  7, 30, 12, 24, 25,  9, 21, 42, 23,  7,  8, 21, 25, 34, 42, 20,\n",
      "         12, 16, 23, 21, 24, 12, 25, 15, 43, 43, 43, 43, 43, 43]])\n"
     ]
    }
   ],
   "source": [
    "print(test_sentence(check).shape)\n",
    "print(test_sentence(check).dtype)\n",
    "print(test_sentence(check))"
   ]
  },
  {
   "cell_type": "markdown",
   "id": "a9ac8e0a-6b37-48fa-b789-94746cdb4af3",
   "metadata": {},
   "source": [
    "## Нейросетевая модель"
   ]
  },
  {
   "cell_type": "code",
   "execution_count": 15,
   "id": "8028a203-549a-48cf-8e19-74bcb6450284",
   "metadata": {},
   "outputs": [],
   "source": [
    "class Network(torch.nn.Module):\n",
    "    def __init__(self):\n",
    "        super(Network, self).__init__()\n",
    "        self.embed = torch.nn.Embedding(CHARS_NUM, 256)\n",
    "        self.rnn = torch.nn.RNN(256, 512, batch_first=True, nonlinearity='relu')\n",
    "        self.linear = torch.nn.Linear(512, CHARS_NUM)\n",
    "        \n",
    "    def forward(self, sentences, state=None):\n",
    "        embed = self.embed(sentences)\n",
    "        o, s = self.rnn(embed)\n",
    "        out = self.linear(o)\n",
    "        return out"
   ]
  },
  {
   "cell_type": "code",
   "execution_count": 16,
   "id": "9d833fe6-d159-4a7d-91d4-505dcee8a0ea",
   "metadata": {},
   "outputs": [],
   "source": [
    "model = Network()\n",
    "loss = torch.nn.CrossEntropyLoss(reduction='sum')\n",
    "optimizer = torch.optim.Adam(model.parameters(), lr=0.001)"
   ]
  },
  {
   "cell_type": "code",
   "execution_count": 17,
   "id": "f3f775cc-eb89-4761-adbb-419d6df29858",
   "metadata": {},
   "outputs": [
    {
     "data": {
      "text/plain": [
       "==========================================================================================\n",
       "Layer (type:depth-idx)                   Output Shape              Param #\n",
       "==========================================================================================\n",
       "Network                                  [1, 50, 44]               --\n",
       "├─Embedding: 1-1                         [1, 50, 256]              11,264\n",
       "├─RNN: 1-2                               [1, 50, 512]              394,240\n",
       "├─Linear: 1-3                            [1, 50, 44]               22,572\n",
       "==========================================================================================\n",
       "Total params: 428,076\n",
       "Trainable params: 428,076\n",
       "Non-trainable params: 0\n",
       "Total mult-adds (M): 19.75\n",
       "==========================================================================================\n",
       "Input size (MB): 0.00\n",
       "Forward/backward pass size (MB): 0.32\n",
       "Params size (MB): 1.71\n",
       "Estimated Total Size (MB): 2.04\n",
       "=========================================================================================="
      ]
     },
     "execution_count": 17,
     "metadata": {},
     "output_type": "execute_result"
    }
   ],
   "source": [
    "summary(model, test_sentence(check).shape, dtypes=['torch.IntTensor'], device='cpu')"
   ]
  },
  {
   "cell_type": "code",
   "execution_count": 18,
   "id": "ad374ffc-d0e0-4b3e-9d4b-84c69b2d1eaa",
   "metadata": {
    "scrolled": true
   },
   "outputs": [],
   "source": [
    "def train(model, train_iter, test_iter, trainer, model_name, epoch_num=15, plot=True, verbose=False):\n",
    "\n",
    "    hist_train = np.empty(epoch_num)\n",
    "    hist_test = np.empty(epoch_num)\n",
    "    acc_train = np.empty(epoch_num)\n",
    "    acc_test = np.empty(epoch_num)\n",
    "        \n",
    "    model.to(device)  \n",
    "        \n",
    "    for epoch in range(epoch_num):\n",
    "        start = time.time()\n",
    "        hist_train_epoch = 0\n",
    "        acc_train_epoch = 0\n",
    "        n = 0\n",
    "        model.train()\n",
    "        for i, (X, Y) in enumerate(train_iter):\n",
    "            X, Y = X.to(device), Y.to(device)\n",
    "            trainer.zero_grad()\n",
    "            y_hat = model(X)\n",
    "            l = loss(y_hat.mT, Y)\n",
    "            l.backward()\n",
    "            trainer.step()\n",
    "            hist_train_epoch += l.item()\n",
    "            acc_train_epoch += (y_hat.argmax(axis=2) == Y).sum().item()\n",
    "            n += Y.shape[0]\n",
    "\n",
    "            if verbose:\n",
    "                print(f'Done {i} of {len(train_iter)} in train epoch {epoch}', end='\\r')\n",
    "                \n",
    "        hist_train[epoch] = hist_train_epoch/n\n",
    "        acc_train[epoch] = acc_train_epoch/n/MAX_LENGTH*100\n",
    "        \n",
    "        model.eval()\n",
    "        hist_test_epoch = 0\n",
    "        acc_test_epoch = 0\n",
    "        n = 0\n",
    "        for i, (X, Y) in enumerate(test_iter):\n",
    "            X, Y = X.to(device), Y.to(device)\n",
    "            y_hat = model(X)\n",
    "            l = loss(y_hat.mT, Y)\n",
    "            hist_test_epoch += l.item()\n",
    "            acc_test_epoch += (y_hat.argmax(axis=2) == Y).sum().item()\n",
    "            n += Y.shape[0]\n",
    "            \n",
    "            if verbose:\n",
    "                print(f'Done {i} of {len(test_iter)} in test epoch {epoch}', end='\\r')\n",
    "                \n",
    "        hist_test[epoch] = hist_test_epoch/n\n",
    "        acc_test[epoch] = acc_test_epoch/n/MAX_LENGTH*100\n",
    "        \n",
    "        if verbose:\n",
    "            print(f'Выполнена эпоха - {epoch} за {time.time() - start} с,  Результаты: \\n Loss -- {hist_train[epoch]}/{hist_test[epoch]}, Acc -- {acc_train[epoch]}/{acc_test[epoch]}')\n",
    "\n",
    "        test_sentence_epoch = test_sentence(check).to(device)\n",
    "        y_hat = model(test_sentence_epoch)\n",
    "        y_hat = y_hat.argmax(axis=2).squeeze()\n",
    "        text_test_sentence = list(map(lambda x: INDEX_TO_CHAR[x], y_hat))\n",
    "        print(f\"Проверочное предложение на эпохе:  {' '.join(str(item) for item in text_test_sentence)}\")\n",
    "            \n",
    "    if plot:\n",
    "        plt.subplot(1, 2, 1)\n",
    "        plt.plot(hist_test, label='Loss test')\n",
    "        plt.plot(hist_train, label='Loss train')\n",
    "        plt.legend()\n",
    "        plt.title(f'Loss {model_name}')\n",
    "        plt.grid()\n",
    "\n",
    "        plt.subplot(1, 2, 2)\n",
    "        plt.plot(acc_test, label='Acc test, %')\n",
    "        plt.plot(acc_train, label='Acc train, %')\n",
    "        plt.legend()\n",
    "        plt.title(f'Accuracy {model_name}')\n",
    "        plt.grid()\n",
    "\n",
    "        plt.show()\n"
   ]
  },
  {
   "cell_type": "code",
   "execution_count": 19,
   "id": "d3e178bf-8a1c-44ee-bb95-40559633137c",
   "metadata": {},
   "outputs": [
    {
     "name": "stdout",
     "output_type": "stream",
     "text": [
      "Выполнена эпоха - 0 за 2.090867042541504 с,  Результаты: \n",
      " Loss -- 50.361658036793806/36.08974858194278, Acc -- 67.23221923015998/74.73740893253088\n",
      "Проверочное предложение на эпохе:  в а е о ь   к ы   п р о а е р я е н   л а ч е с т в о   с а в о т ь   о е к с о с е т и none none none none none none\n",
      "Выполнена эпоха - 1 за 1.917872667312622 с,  Результаты: \n",
      " Loss -- 24.108416647497908/16.04980167634207, Acc -- 83.99968319341042/90.09566043712385\n",
      "Проверочное предложение на эпохе:  в а г с ь   н ы   н о м а г о я е к   и а ч е с т в о   р а б о т ь   н е й р о с е т и none none none none none none\n",
      "Выполнена эпоха - 2 за 1.7752959728240967 с,  Результаты: \n",
      " Loss -- 11.646639101973204/10.227447519432264, Acc -- 92.90670045936956/93.78397212543554\n",
      "Проверочное предложение на эпохе:  к е г с ь   к ы   р о м а е о я г к   к а ч е с т в о   р а б о т ы   н е й р о с е т и none none none none none none\n",
      "Выполнена эпоха - 3 за 1.798905849456787 с,  Результаты: \n",
      " Loss -- 8.026062312640537/15.558685882732693, Acc -- 95.05559955647078/90.8704466265442\n",
      "Проверочное предложение на эпохе:  н и л ч ь   н ы   р с п е е р я е м   к а ч е с т в о   р а б о т ы   н е й р о с е т и none none none none none none\n",
      "Выполнена эпоха - 4 за 1.9507789611816406 с,  Результаты: \n",
      " Loss -- 6.135751804307696/6.182825860019571, Acc -- 96.12640582924125/96.08679125752296\n",
      "Проверочное предложение на эпохе:  м л н о ь   м ы   п р о в е р я е м   к а ч е с т в о   р а б о т ы   н е й р о с е т и none none none none none none\n",
      "Выполнена эпоха - 5 за 1.975968360900879 с,  Результаты: \n",
      " Loss -- 7.096207020948565/6.987573882843974, Acc -- 95.62109931886583/95.68387709851125\n",
      "Проверочное предложение на эпохе:  н и ж с ц   н ы   п р о в е р я е м   к а ч е с т в о   р а б о т ы   н е й р о с е т и none none none none none none\n",
      "Выполнена эпоха - 6 за 2.008201837539673 с,  Результаты: \n",
      " Loss -- 5.662532265583233/5.729096809897122, Acc -- 96.37826706795501/96.397212543554\n",
      "Проверочное предложение на эпохе:  в а е с ь   м ы   п р о в е р я е м   к а ч е с т в о   р а б о т ы   н е й р о с е т и none none none none none none\n",
      "Выполнена эпоха - 7 за 1.8829586505889893 с,  Результаты: \n",
      " Loss -- 4.987976265165105/5.668251280471951, Acc -- 96.75194044036115/96.45106113398796\n",
      "Проверочное предложение на эпохе:  в а е с ь   м ы   п р о в е р я е м   к а ч е с т в о   р а б о т ы   н е й р о с е т и none none none none none none\n",
      "Выполнена эпоха - 8 за 1.926952600479126 с,  Результаты: \n",
      " Loss -- 5.425891632099415/7.8791390444079195, Acc -- 96.53033423095201/95.39372822299651\n",
      "Проверочное предложение на эпохе:  о о п с ь   м ы   п р о в е р я е м   к а ч е с т в о   р а б о т ы   н е й р о с е т и none none none none none none\n",
      "Выполнена эпоха - 9 за 1.9810090065002441 с,  Результаты: \n",
      " Loss -- 5.445792551220417/5.895967119813229, Acc -- 96.53302708696341/96.3332277478619\n",
      "Проверочное предложение на эпохе:  о и о с ь   м ы   п р о в е р я е м   к а ч е с т в о   р а б о т ы   н е й р о с е т и none none none none none none\n",
      "Выполнена эпоха - 10 за 1.8539788722991943 с,  Результаты: \n",
      " Loss -- 4.034310150388189/5.615529717997278, Acc -- 97.30856961824806/96.48146974976244\n",
      "Проверочное предложение на эпохе:  к и и с ь   м ы   п р о в е р я е м   к а ч е с т в о   р а б о т ы   н е й р о с е т и none none none none none none\n",
      "Выполнена эпоха - 11 за 1.9573490619659424 с,  Результаты: \n",
      " Loss -- 3.6632865145601863/5.635196293083822, Acc -- 97.50293046095359/96.52961672473867\n",
      "Проверочное предложение на эпохе:  в д е с ь   м ы   п р о в е р я е м   к а ч е с т в о   р а б о т ы   н е й р о с е т и none none none none none none\n",
      "Выполнена эпоха - 12 за 1.8865771293640137 с,  Результаты: \n",
      " Loss -- 3.55792113602794/5.714818366011148, Acc -- 97.5802312688104/96.49097244219196\n",
      "Проверочное предложение на эпохе:  н р е с ь   м ы   п р о в е р я е м   к а ч е с т в о   р а б о т ы   н е й р о с е т и none none none none none none\n",
      "Выполнена эпоха - 13 за 1.838132619857788 с,  Результаты: \n",
      " Loss -- 3.5125132149379565/5.482068399858883, Acc -- 97.60446697291303/96.64238200823567\n",
      "Проверочное предложение на эпохе:  н а е с ь   м ы   п р о в е р я е м   к а ч е с т в о   р а б о т ы   н е й р о с е т и none none none none none none\n",
      "Выполнена эпоха - 14 за 1.9661593437194824 с,  Результаты: \n",
      " Loss -- 3.4476545337789997/5.5590310584603895, Acc -- 97.62664343418344/96.70066518847007\n",
      "Проверочное предложение на эпохе:  н и п с ь   м ы   п р о в е р я е м   к а ч е с т в о   р а б о т ы   н е й р о с е т и none none none none none none\n"
     ]
    },
    {
     "data": {
      "image/png": "[encoded data removed]",
      "text/plain": [
       "<Figure size 640x480 with 2 Axes>"
      ]
     },
     "metadata": {},
     "output_type": "display_data"
    }
   ],
   "source": [
    "train(model, Train, Test, optimizer, 'Basic RNN', verbose=True)"
   ]
  },
  {
   "cell_type": "markdown",
   "id": "f3166454-98ba-4969-821e-3aee4f103b55",
   "metadata": {},
   "source": [
    "Полученная модель хорошо справляется с дешифровкой кода Цезаря, она не пытается изменить пробелы и символы none но первые символы угадываются некорректно, так как ещё нет контекста"
   ]
  },
  {
   "cell_type": "code",
   "execution_count": null,
   "id": "98de6b61-40bc-494e-a19f-394fffc49b61",
   "metadata": {},
   "outputs": [],
   "source": []
  }
 ],
 "metadata": {
  "kernelspec": {
   "display_name": "Python 3 (ipykernel)",
   "language": "python",
   "name": "python3"
  },
  "language_info": {
   "codemirror_mode": {
    "name": "ipython",
    "version": 3
   },
   "file_extension": ".py",
   "mimetype": "text/x-python",
   "name": "python",
   "nbconvert_exporter": "python",
   "pygments_lexer": "ipython3",
   "version": "3.10.7"
  }
 },
 "nbformat": 4,
 "nbformat_minor": 5
}
