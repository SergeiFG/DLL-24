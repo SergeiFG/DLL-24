{
 "cells": [
  {
   "cell_type": "code",
   "execution_count": 16,
   "metadata": {
    "scrolled": true
   },
   "outputs": [
    {
     "name": "stdout",
     "output_type": "stream",
     "text": [
      "Requirement already satisfied: transformers in /home/m_apishev/.pyenv/versions/anaconda3-2021.05/lib/python3.8/site-packages (4.11.3)\n",
      "Requirement already satisfied: tqdm>=4.27 in /home/m_apishev/.pyenv/versions/anaconda3-2021.05/lib/python3.8/site-packages (from transformers) (4.62.0)\n",
      "Requirement already satisfied: tokenizers<0.11,>=0.10.1 in /home/m_apishev/.pyenv/versions/anaconda3-2021.05/lib/python3.8/site-packages (from transformers) (0.10.3)\n",
      "Requirement already satisfied: filelock in /home/m_apishev/.pyenv/versions/anaconda3-2021.05/lib/python3.8/site-packages (from transformers) (3.7.1)\n",
      "Requirement already satisfied: regex!=2019.12.17 in /home/m_apishev/.pyenv/versions/anaconda3-2021.05/lib/python3.8/site-packages (from transformers) (2022.4.24)\n",
      "Requirement already satisfied: numpy>=1.17 in /home/m_apishev/.pyenv/versions/anaconda3-2021.05/lib/python3.8/site-packages (from transformers) (1.18.0)\n",
      "Requirement already satisfied: huggingface-hub>=0.0.17 in /home/m_apishev/.pyenv/versions/anaconda3-2021.05/lib/python3.8/site-packages (from transformers) (0.6.0)\n",
      "Requirement already satisfied: requests in /home/m_apishev/.pyenv/versions/anaconda3-2021.05/lib/python3.8/site-packages (from transformers) (2.22.0)\n",
      "Requirement already satisfied: packaging>=20.0 in /home/m_apishev/.pyenv/versions/anaconda3-2021.05/lib/python3.8/site-packages (from transformers) (20.9)\n",
      "Requirement already satisfied: pyyaml>=5.1 in /home/m_apishev/.pyenv/versions/anaconda3-2021.05/lib/python3.8/site-packages (from transformers) (6.0)\n",
      "Requirement already satisfied: sacremoses in /home/m_apishev/.pyenv/versions/anaconda3-2021.05/lib/python3.8/site-packages (from transformers) (0.0.35)\n",
      "Requirement already satisfied: typing-extensions>=3.7.4.3 in /home/m_apishev/.pyenv/versions/anaconda3-2021.05/lib/python3.8/site-packages (from huggingface-hub>=0.0.17->transformers) (3.7.4.3)\n",
      "Requirement already satisfied: pyparsing>=2.0.2 in /home/m_apishev/.pyenv/versions/anaconda3-2021.05/lib/python3.8/site-packages (from packaging>=20.0->transformers) (2.4.7)\n",
      "Requirement already satisfied: idna<2.9,>=2.5 in /home/m_apishev/.pyenv/versions/anaconda3-2021.05/lib/python3.8/site-packages (from requests->transformers) (2.8)\n",
      "Requirement already satisfied: urllib3!=1.25.0,!=1.25.1,<1.26,>=1.21.1 in /home/m_apishev/.pyenv/versions/anaconda3-2021.05/lib/python3.8/site-packages (from requests->transformers) (1.25.11)\n",
      "Requirement already satisfied: chardet<3.1.0,>=3.0.2 in /home/m_apishev/.pyenv/versions/anaconda3-2021.05/lib/python3.8/site-packages (from requests->transformers) (3.0.4)\n",
      "Requirement already satisfied: certifi>=2017.4.17 in /home/m_apishev/.pyenv/versions/anaconda3-2021.05/lib/python3.8/site-packages (from requests->transformers) (2020.12.5)\n",
      "Requirement already satisfied: click in /home/m_apishev/.pyenv/versions/anaconda3-2021.05/lib/python3.8/site-packages (from sacremoses->transformers) (7.1.2)\n",
      "Requirement already satisfied: joblib in /home/m_apishev/.pyenv/versions/anaconda3-2021.05/lib/python3.8/site-packages (from sacremoses->transformers) (1.0.1)\n",
      "Requirement already satisfied: six in /home/m_apishev/.pyenv/versions/anaconda3-2021.05/lib/python3.8/site-packages (from sacremoses->transformers) (1.15.0)\n",
      "\u001b[33mWARNING: There was an error checking the latest version of pip.\u001b[0m\u001b[33m\n",
      "\u001b[0mRequirement already satisfied: nmslib in /home/m_apishev/.pyenv/versions/anaconda3-2021.05/lib/python3.8/site-packages (2.1.1)\n",
      "Requirement already satisfied: pybind11<2.6.2 in /home/m_apishev/.pyenv/versions/anaconda3-2021.05/lib/python3.8/site-packages (from nmslib) (2.6.1)\n",
      "Requirement already satisfied: psutil in /home/m_apishev/.pyenv/versions/anaconda3-2021.05/lib/python3.8/site-packages (from nmslib) (5.8.0)\n",
      "Requirement already satisfied: numpy>=1.10.0 in /home/m_apishev/.pyenv/versions/anaconda3-2021.05/lib/python3.8/site-packages (from nmslib) (1.18.0)\n",
      "\u001b[33mWARNING: There was an error checking the latest version of pip.\u001b[0m\u001b[33m\n",
      "\u001b[0m"
     ]
    }
   ],
   "source": [
    "!pip install transformers\n",
    "!pip install nmslib"
   ]
  },
  {
   "cell_type": "markdown",
   "metadata": {},
   "source": [
    "#### Пример: семантическая близость"
   ]
  },
  {
   "cell_type": "code",
   "execution_count": 1,
   "metadata": {},
   "outputs": [],
   "source": [
    "from transformers import AutoTokenizer, AutoModel\n",
    "import torch\n",
    "\n",
    "\n",
    "#Mean Pooling - Take attention mask into account for correct averaging\n",
    "def mean_pooling(model_output, attention_mask):\n",
    "    token_embeddings = model_output[0] #First element of model_output contains all token embeddings\n",
    "    input_mask_expanded = attention_mask.unsqueeze(-1).expand(token_embeddings.size()).float()\n",
    "    return torch.sum(token_embeddings * input_mask_expanded, 1) / torch.clamp(input_mask_expanded.sum(1), min=1e-9)"
   ]
  },
  {
   "cell_type": "code",
   "execution_count": 2,
   "metadata": {},
   "outputs": [],
   "source": [
    "sentences = [\n",
    "    'Позовите оператора поддержки, бот не помог',\n",
    "    'Нужна помощь человека для решения вопроса',\n",
    "    'Мне нужна новая карта',\n",
    "    'Хотел бы выпустить ещё одну карточку',\n",
    "    'So, the robot was useless I need a human expert',\n",
    "]\n",
    "\n",
    "tokenizer = AutoTokenizer.from_pretrained('sentence-transformers/paraphrase-xlm-r-multilingual-v1')\n",
    "model = AutoModel.from_pretrained('sentence-transformers/paraphrase-xlm-r-multilingual-v1')"
   ]
  },
  {
   "cell_type": "code",
   "execution_count": 3,
   "metadata": {},
   "outputs": [],
   "source": [
    "encoded_input = tokenizer(sentences, padding=True, truncation=True, return_tensors='pt')\n",
    "\n",
    "with torch.no_grad():\n",
    "    model_output = model(**encoded_input)\n",
    "\n",
    "sentence_embeddings = mean_pooling(model_output, encoded_input['attention_mask'])"
   ]
  },
  {
   "cell_type": "code",
   "execution_count": 48,
   "metadata": {},
   "outputs": [
    {
     "data": {
      "text/plain": [
       "tensor([[ 0.0319,  0.3350, -0.0372,  ..., -0.0135, -0.1594,  0.2159],\n",
       "        [ 0.0091,  0.2025,  0.1061,  ...,  0.1398, -0.0556,  0.0987],\n",
       "        [-0.0028, -0.0662,  0.1808,  ..., -0.3124,  0.1364, -0.1686],\n",
       "        [ 0.0397,  0.2135, -0.0526,  ...,  0.0632, -0.2187, -0.0405],\n",
       "        [ 0.1122,  0.4121,  0.1259,  ...,  0.0062, -0.2281, -0.0306]])"
      ]
     },
     "execution_count": 48,
     "metadata": {},
     "output_type": "execute_result"
    }
   ],
   "source": [
    "sentence_embeddings"
   ]
  },
  {
   "cell_type": "code",
   "execution_count": 53,
   "metadata": {},
   "outputs": [],
   "source": [
    "import nmslib\n",
    "\n",
    "index = nmslib.init(method='hnsw', space='cosinesimil')\n",
    "index.addDataPointBatch(sentence_embeddings[: -1], ids=list(range(len(sentence_embeddings[: -1]))))\n",
    "index.createIndex({'post': 2}, print_progress=True)"
   ]
  },
  {
   "cell_type": "code",
   "execution_count": 54,
   "metadata": {},
   "outputs": [],
   "source": [
    "ids, distances = index.knnQuery(sentence_embeddings[-1], k=10)"
   ]
  },
  {
   "cell_type": "code",
   "execution_count": 56,
   "metadata": {},
   "outputs": [
    {
     "name": "stdout",
     "output_type": "stream",
     "text": [
      "Позовите оператора поддержки, бот не помог \t 0.5327996\n",
      "Нужна помощь человека для решения вопроса \t 0.6821636\n",
      "Мне нужна новая карта \t 0.7499061\n",
      "Хотел бы выпустить ещё одну карточку \t 0.95125544\n"
     ]
    }
   ],
   "source": [
    "for i, d in zip(ids, distances):\n",
    "    print(sentences[i], '\\t', d)"
   ]
  },
  {
   "cell_type": "markdown",
   "metadata": {},
   "source": [
    "#### Пример: генерация текста"
   ]
  },
  {
   "cell_type": "code",
   "execution_count": 6,
   "metadata": {},
   "outputs": [],
   "source": [
    "from transformers import GPT2LMHeadModel, GPT2Tokenizer\n",
    "\n",
    "tokenizer = GPT2Tokenizer.from_pretrained('sberbank-ai/rugpt3small_based_on_gpt2')\n",
    "model = GPT2LMHeadModel.from_pretrained('sberbank-ai/rugpt3small_based_on_gpt2')"
   ]
  },
  {
   "cell_type": "code",
   "execution_count": 8,
   "metadata": {},
   "outputs": [
    {
     "name": "stderr",
     "output_type": "stream",
     "text": [
      "Setting `pad_token_id` to `eos_token_id`:50256 for open-end generation.\n"
     ]
    },
    {
     "name": "stdout",
     "output_type": "stream",
     "text": [
      "['Как же жить хорошо!&raquo; &mdash; подумал я.\\n\\nИ тут меня осенило: а почему бы и нет? Ведь у каждого из нас есть свой дом, своя семья, свои дети... И если мы не хотим быть несчастными, то что тогда делать с теми, кто']\n"
     ]
    }
   ],
   "source": [
    "text = 'Как же жить хорошо!'\n",
    "input_ids = tokenizer.encode(text, return_tensors='pt')\n",
    "\n",
    "tokens = model.generate(\n",
    "    input_ids,\n",
    "    max_length=64,\n",
    "    repetition_penalty=5.0,\n",
    "    do_sample=False,\n",
    "    top_k=5,\n",
    "    top_p=0.95,\n",
    "    temperature=1.0,\n",
    "    num_beams=5,\n",
    "    no_repeat_ngram_size=4,\n",
    ")\n",
    "print([tokenizer.decode(t) for t in tokens])"
   ]
  }
 ],
 "metadata": {
  "colab": {
   "collapsed_sections": [],
   "name": "transformer.ipynb",
   "provenance": [
    {
     "file_id": "https://github.com/pytorch/tutorials/blob/gh-pages/_downloads/transformer_tutorial.ipynb",
     "timestamp": 1576667026572
    }
   ]
  },
  "kernelspec": {
   "display_name": "Python 3",
   "language": "python",
   "name": "python3"
  },
  "language_info": {
   "codemirror_mode": {
    "name": "ipython",
    "version": 3
   },
   "file_extension": ".py",
   "mimetype": "text/x-python",
   "name": "python",
   "nbconvert_exporter": "python",
   "pygments_lexer": "ipython3",
   "version": "3.8.8"
  }
 },
 "nbformat": 4,
 "nbformat_minor": 1
}
