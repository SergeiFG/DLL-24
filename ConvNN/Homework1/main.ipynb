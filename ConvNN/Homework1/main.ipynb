{
 "cells": [
  {
   "cell_type": "markdown",
   "id": "592414ae-e8b7-44ee-90db-edbeec62673f",
   "metadata": {},
   "source": [
    "## Домашнее задание 3: Свёрточные сети"
   ]
  },
  {
   "cell_type": "code",
   "execution_count": 1,
   "id": "ab474dc6-b13e-49b7-9d6e-2028a698d58d",
   "metadata": {},
   "outputs": [],
   "source": [
    "import torch\n",
    "import torchvision as tv\n",
    "import matplotlib.pyplot as plt\n",
    "from torchsummary import summary\n",
    "import numpy as np\n",
    "import math"
   ]
  },
  {
   "cell_type": "markdown",
   "id": "daf354a8-afd8-434d-ae3b-ee2af583dfe3",
   "metadata": {},
   "source": [
    "Загрузим данные"
   ]
  },
  {
   "cell_type": "code",
   "execution_count": 2,
   "id": "a8b7d263-d321-4c2d-9aa1-99ceeb6c724f",
   "metadata": {},
   "outputs": [],
   "source": [
    "Data_train = tv.datasets.FashionMNIST('.', train=True, download=True, transform=tv.transforms.ToTensor())\n",
    "Data_test = tv.datasets.FashionMNIST('.', train=True, download=True, transform=tv.transforms.ToTensor())\n",
    "\n",
    "batch_size = 256\n",
    "train = torch.utils.data.DataLoader(Data_train, batch_size=batch_size, shuffle=True)\n",
    "test = torch.utils.data.DataLoader(Data_test, batch_size=batch_size, shuffle=True)"
   ]
  },
  {
   "cell_type": "markdown",
   "id": "cfca034f-204f-4697-abfc-08c1938342c8",
   "metadata": {},
   "source": [
    "проверим размерность входных данных"
   ]
  },
  {
   "cell_type": "code",
   "execution_count": 3,
   "id": "b344688f-1525-474f-ac70-98d1f9249ba6",
   "metadata": {
    "scrolled": true
   },
   "outputs": [
    {
     "data": {
      "text/plain": [
       "torch.Size([1, 28, 28])"
      ]
     },
     "execution_count": 3,
     "metadata": {},
     "output_type": "execute_result"
    }
   ],
   "source": [
    "Data_train[0][0].shape"
   ]
  },
  {
   "cell_type": "markdown",
   "id": "4a86ce58-40b3-4a67-852d-a96c7d5e52e8",
   "metadata": {},
   "source": [
    "инициализируем модель, из 3 свёрточных слоёв и последующих обычных полносвязных слоёв с батч-нормализацией и дропаутом"
   ]
  },
  {
   "cell_type": "code",
   "execution_count": 4,
   "id": "70b43196-1550-49f7-b863-495ca1959437",
   "metadata": {},
   "outputs": [],
   "source": [
    "model = torch.nn.Sequential(torch.nn.Conv2d(1, 8, (4, 4)), \n",
    "                           torch.nn.Tanh(),\n",
    "                           torch.nn.MaxPool2d(2),\n",
    "                           torch.nn.Conv2d(8, 32, (3, 3), padding=1),\n",
    "                           torch.nn.Tanh(),\n",
    "                           torch.nn.MaxPool2d(2),\n",
    "                           torch.nn.Conv2d(32, 64, (3, 3), padding=1),\n",
    "                           torch.nn.Tanh(),\n",
    "                           torch.nn.AvgPool2d(2), \n",
    "                           torch.nn.Flatten(),\n",
    "                            torch.nn.Dropout(0.5),\n",
    "                           torch.nn.Linear(576, 2000),\n",
    "                            torch.nn.BatchNorm1d(2000),\n",
    "                           torch.nn.ReLU(),\n",
    "                            torch.nn.Dropout(0.5),\n",
    "                            torch.nn.Linear(2000, 750), \n",
    "                            torch.nn.BatchNorm1d(750), \n",
    "                           torch.nn.ReLU(),\n",
    "                            torch.nn.Dropout(0.5),\n",
    "                            torch.nn.Linear(750, 250), \n",
    "                            torch.nn.BatchNorm1d(250), \n",
    "                           torch.nn.ReLU(),\n",
    "                            torch.nn.Linear(250, 10), \n",
    "                           torch.nn.ReLU())"
   ]
  },
  {
   "cell_type": "markdown",
   "id": "eace69dd-68a2-42b8-9ebc-305943fa0495",
   "metadata": {},
   "source": [
    "Составим отчёт о созданной модели, проверяем размерности"
   ]
  },
  {
   "cell_type": "code",
   "execution_count": 5,
   "id": "afae1162-1109-4c29-bd07-90d62018f54c",
   "metadata": {},
   "outputs": [
    {
     "name": "stdout",
     "output_type": "stream",
     "text": [
      "----------------------------------------------------------------\n",
      "        Layer (type)               Output Shape         Param #\n",
      "================================================================\n",
      "            Conv2d-1            [-1, 8, 25, 25]             136\n",
      "              Tanh-2            [-1, 8, 25, 25]               0\n",
      "         MaxPool2d-3            [-1, 8, 12, 12]               0\n",
      "            Conv2d-4           [-1, 32, 12, 12]           2,336\n",
      "              Tanh-5           [-1, 32, 12, 12]               0\n",
      "         MaxPool2d-6             [-1, 32, 6, 6]               0\n",
      "            Conv2d-7             [-1, 64, 6, 6]          18,496\n",
      "              Tanh-8             [-1, 64, 6, 6]               0\n",
      "         AvgPool2d-9             [-1, 64, 3, 3]               0\n",
      "          Flatten-10                  [-1, 576]               0\n",
      "          Dropout-11                  [-1, 576]               0\n",
      "           Linear-12                 [-1, 2000]       1,154,000\n",
      "      BatchNorm1d-13                 [-1, 2000]           4,000\n",
      "             ReLU-14                 [-1, 2000]               0\n",
      "          Dropout-15                 [-1, 2000]               0\n",
      "           Linear-16                  [-1, 750]       1,500,750\n",
      "      BatchNorm1d-17                  [-1, 750]           1,500\n",
      "             ReLU-18                  [-1, 750]               0\n",
      "          Dropout-19                  [-1, 750]               0\n",
      "           Linear-20                  [-1, 250]         187,750\n",
      "      BatchNorm1d-21                  [-1, 250]             500\n",
      "             ReLU-22                  [-1, 250]               0\n",
      "           Linear-23                   [-1, 10]           2,510\n",
      "             ReLU-24                   [-1, 10]               0\n",
      "================================================================\n",
      "Total params: 2,871,978\n",
      "Trainable params: 2,871,978\n",
      "Non-trainable params: 0\n",
      "----------------------------------------------------------------\n",
      "Input size (MB): 0.00\n",
      "Forward/backward pass size (MB): 0.30\n",
      "Params size (MB): 10.96\n",
      "Estimated Total Size (MB): 11.26\n",
      "----------------------------------------------------------------\n"
     ]
    }
   ],
   "source": [
    "summary(model, Data_train[0][0].shape, device='cpu')"
   ]
  },
  {
   "cell_type": "markdown",
   "id": "6165da12-9070-408a-988e-8effa3737212",
   "metadata": {},
   "source": [
    "задаём оптимайзер и лосс-функцию"
   ]
  },
  {
   "cell_type": "code",
   "execution_count": 6,
   "id": "aba3d8eb-db08-4d38-8ad2-c27cf37de278",
   "metadata": {},
   "outputs": [],
   "source": [
    "optimizer = torch.optim.Adam(model.parameters(), lr=0.001)\n",
    "loss = torch.nn.CrossEntropyLoss()"
   ]
  },
  {
   "cell_type": "markdown",
   "id": "9b7c1e0e-9ce5-440a-ac1a-cc580adf731a",
   "metadata": {},
   "source": [
    "обучение нейросети"
   ]
  },
  {
   "cell_type": "code",
   "execution_count": 7,
   "id": "a2e7017d-fac8-478a-9aef-0f9f8c0a30f3",
   "metadata": {},
   "outputs": [
    {
     "name": "stdout",
     "output_type": "stream",
     "text": [
      "Done  2  of  50  which is  4 %\n",
      "Done  4  of  50  which is  8 %\n",
      "Done  6  of  50  which is  12 %\n",
      "Done  8  of  50  which is  16 %\n",
      "Done  10  of  50  which is  20 %\n",
      "Done  12  of  50  which is  24 %\n",
      "Done  14  of  50  which is  29 %\n",
      "Done  16  of  50  which is  32 %\n",
      "Done  18  of  50  which is  36 %\n",
      "Done  20  of  50  which is  40 %\n",
      "Done  22  of  50  which is  44 %\n",
      "Done  24  of  50  which is  48 %\n",
      "Done  26  of  50  which is  52 %\n",
      "Done  28  of  50  which is  57 %\n",
      "Done  30  of  50  which is  60 %\n",
      "Done  32  of  50  which is  64 %\n",
      "Done  34  of  50  which is  68 %\n",
      "Done  36  of  50  which is  72 %\n",
      "Done  38  of  50  which is  76 %\n",
      "Done  40  of  50  which is  80 %\n",
      "Done  42  of  50  which is  84 %\n",
      "Done  44  of  50  which is  88 %\n",
      "Done  46  of  50  which is  92 %\n",
      "Done  48  of  50  which is  96 %\n",
      "Done  50  of  50  which is  100 %\n",
      "Training Done\n"
     ]
    }
   ],
   "source": [
    "epoch_num = 50\n",
    "hist_train = np.array([])\n",
    "hist_test = np.array([])\n",
    "acc_train = np.array([])\n",
    "acc_test = np.array([])\n",
    "\n",
    "for epoch in range(1, epoch_num+1):\n",
    "    \n",
    "    ep_hist_train, ep_hist_test = 0, 0\n",
    "    ep_acc_train, ep_acc_test = 0, 0\n",
    "    \n",
    "    model.train()\n",
    "    for X, Y in train:\n",
    "        optimizer.zero_grad()\n",
    "        y_pred = model(X)\n",
    "        l = loss(y_pred, Y)\n",
    "        l.backward()\n",
    "        optimizer.step()\n",
    "        \n",
    "        ep_hist_train += l.item()\n",
    "        ep_acc_train += (y_pred.argmax(dim=1) == Y).sum().item()\n",
    "    \n",
    "    model.eval()\n",
    "    for X, Y in test:        \n",
    "        y_pred = model(X)\n",
    "        l = loss(y_pred, Y)\n",
    "        \n",
    "        ep_hist_test += l.item()\n",
    "        ep_acc_test += (y_pred.argmax(dim=1) == Y).sum().item()\n",
    "    \n",
    "    hist_train = np.append(hist_train, ep_hist_train/len(Data_train))\n",
    "    hist_test = np.append(hist_test, ep_hist_test/len(Data_test))\n",
    "    acc_train = np.append(acc_train, ep_acc_train/len(Data_train)*100)\n",
    "    acc_test = np.append(acc_test, ep_acc_test/len(Data_test)*100)\n",
    "    \n",
    "    if (epoch % 2) == 0:\n",
    "        print('Done ', epoch, ' of ', epoch_num, ' which is ', \n",
    "              math.ceil(epoch/epoch_num*100), '%')\n",
    "\n",
    "print('Training Done')"
   ]
  },
  {
   "cell_type": "markdown",
   "id": "eeeeb623-8965-41f6-ba03-c520e0925aa6",
   "metadata": {},
   "source": [
    "Построение графиков Лосс-функции и точности"
   ]
  },
  {
   "cell_type": "code",
   "execution_count": 8,
   "id": "2e9f5473-dd0b-47c8-88e3-c60a6a233e0b",
   "metadata": {},
   "outputs": [
    {
     "data": {
      "text/plain": [
       "<matplotlib.legend.Legend at 0x22df7606410>"
      ]
     },
     "execution_count": 8,
     "metadata": {},
     "output_type": "execute_result"
    },
    {
     "data": {
      "image/png": "[encoded data removed]",
      "text/plain": [
       "<Figure size 640x480 with 2 Axes>"
      ]
     },
     "metadata": {},
     "output_type": "display_data"
    }
   ],
   "source": [
    "plt.subplot(1, 2, 1)\n",
    "plt.plot(hist_test, label='Loss test')\n",
    "plt.plot(hist_train, label='Loss train')\n",
    "plt.grid()\n",
    "plt.legend()\n",
    "\n",
    "plt.subplot(1, 2, 2)\n",
    "plt.plot(acc_test, label='Accuracy test, %')\n",
    "plt.plot(acc_train, label='Accuracy train, %')\n",
    "plt.grid()\n",
    "plt.legend()"
   ]
  },
  {
   "cell_type": "code",
   "execution_count": null,
   "id": "c93859e4-31f1-4167-aac1-9fae064e6b52",
   "metadata": {},
   "outputs": [],
   "source": []
  },
  {
   "cell_type": "code",
   "execution_count": null,
   "id": "10e72580-6dcf-48e2-994e-f992ca5395d1",
   "metadata": {},
   "outputs": [],
   "source": []
  },
  {
   "cell_type": "code",
   "execution_count": null,
   "id": "8fa400a6-63ef-4f3f-a67c-bd4da00fa57f",
   "metadata": {},
   "outputs": [],
   "source": []
  },
  {
   "cell_type": "code",
   "execution_count": null,
   "id": "54479a2c-eb26-46a8-a85e-cbbd46fd5876",
   "metadata": {},
   "outputs": [],
   "source": []
  },
  {
   "cell_type": "code",
   "execution_count": null,
   "id": "6303f573-c9b4-4ab9-aa00-a4c485003da7",
   "metadata": {},
   "outputs": [],
   "source": []
  }
 ],
 "metadata": {
  "kernelspec": {
   "display_name": "Python 3 (ipykernel)",
   "language": "python",
   "name": "python3"
  },
  "language_info": {
   "codemirror_mode": {
    "name": "ipython",
    "version": 3
   },
   "file_extension": ".py",
   "mimetype": "text/x-python",
   "name": "python",
   "nbconvert_exporter": "python",
   "pygments_lexer": "ipython3",
   "version": "3.10.7"
  }
 },
 "nbformat": 4,
 "nbformat_minor": 5
}
