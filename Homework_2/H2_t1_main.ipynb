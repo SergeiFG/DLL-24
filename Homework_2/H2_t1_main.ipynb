{
 "cells": [
  {
   "cell_type": "markdown",
   "id": "73bcdacd-7cc4-4a51-9e30-f13f77b9d735",
   "metadata": {},
   "source": [
    "## Домашнее задание 2: Нейросеть для распознавания изображений на датасете FashionMNIST"
   ]
  },
  {
   "cell_type": "code",
   "execution_count": 1,
   "id": "622e1210-68c3-48ac-a1e0-60483161b549",
   "metadata": {},
   "outputs": [],
   "source": [
    "import numpy as np\n",
    "import torch\n",
    "import torchvision\n",
    "import matplotlib.pyplot as plt\n",
    "import math"
   ]
  },
  {
   "cell_type": "markdown",
   "id": "a70f8c24-9387-4038-b561-632e2eb241ca",
   "metadata": {},
   "source": [
    "Загрузка обучающего и тестового Датасетов, создание DataLoader для каждого из них"
   ]
  },
  {
   "cell_type": "code",
   "execution_count": 2,
   "id": "bcec5bae-3eba-44a8-b849-969004db8350",
   "metadata": {},
   "outputs": [],
   "source": [
    "Data_train = torchvision.datasets.FashionMNIST('.', download=True, train=True,  \n",
    "                                        transform= torchvision.transforms.ToTensor())\n",
    "Data_test = torchvision.datasets.FashionMNIST('.', download=True, train=False,  \n",
    "                                        transform= torchvision.transforms.ToTensor())\n",
    "\n",
    "train = torch.utils.data.DataLoader(Data_train, batch_size=200, shuffle=True)\n",
    "test = torch.utils.data.DataLoader(Data_test, batch_size=200, shuffle=True)"
   ]
  },
  {
   "cell_type": "markdown",
   "id": "77c40cee-1322-4387-b758-193cc38b9568",
   "metadata": {},
   "source": [
    "Проверим размерности входных данных, а также покажем виды для классификации"
   ]
  },
  {
   "cell_type": "code",
   "execution_count": 3,
   "id": "fc62f8f7-7daf-42a8-86de-952acc9aeafe",
   "metadata": {},
   "outputs": [
    {
     "data": {
      "text/plain": [
       "torch.Size([1, 28, 28])"
      ]
     },
     "execution_count": 3,
     "metadata": {},
     "output_type": "execute_result"
    }
   ],
   "source": [
    "Data_train[0][0].shape"
   ]
  },
  {
   "cell_type": "code",
   "execution_count": 4,
   "id": "70061a57-f9e8-4f2c-9abe-00d74d02e34f",
   "metadata": {},
   "outputs": [
    {
     "name": "stdout",
     "output_type": "stream",
     "text": [
      "Виды одежды -  {0, 1, 2, 3, 4, 5, 6, 7, 8, 9}\n",
      "Количество видов одежы -  10\n"
     ]
    }
   ],
   "source": [
    "data_type = set()\n",
    "for i in range(len(Data_train)):\n",
    "    data_type.add(Data_train[i][1])\n",
    "print('Виды одежды - ', data_type)\n",
    "print('Количество видов одежы - ', len(data_type))"
   ]
  },
  {
   "cell_type": "markdown",
   "id": "3e2e2f2a-65f5-428b-8253-34a5d41403be",
   "metadata": {},
   "source": [
    "Задаём архитектуру нейросети из 4 слоев с батч-нормализацией"
   ]
  },
  {
   "cell_type": "code",
   "execution_count": 5,
   "id": "ca0ce2d1-1ebb-42a0-8e32-dcc7fe9bdf70",
   "metadata": {},
   "outputs": [],
   "source": [
    "model = torch.nn.Sequential(torch.nn.Flatten(),\n",
    "                            torch.nn.Linear(784, 2000),\n",
    "                            torch.nn.Tanh(), \n",
    "                            torch.nn.Dropout(0.4),\n",
    "                            torch.nn.BatchNorm1d(2000),\n",
    "                            torch.nn.Dropout(0.4),\n",
    "                            torch.nn.Linear(2000, 1000),                            \n",
    "                            torch.nn.ReLU(), \n",
    "                            torch.nn.BatchNorm1d(1000),\n",
    "                            torch.nn.Dropout(0.4),\n",
    "                            torch.nn.Linear(1000, 500),                            \n",
    "                            torch.nn.ReLU(),\n",
    "                            torch.nn.BatchNorm1d(500),\n",
    "                            torch.nn.Dropout(0.4),\n",
    "                            torch.nn.Linear(500, 200),                            \n",
    "                            torch.nn.ReLU(),\n",
    "                            torch.nn.BatchNorm1d(200),\n",
    "                            torch.nn.Linear(200, 10),\n",
    "                            )\n",
    "\n",
    "optimizer = torch.optim.Adam(model.parameters(), lr=0.001)\n",
    "loss = torch.nn.CrossEntropyLoss()"
   ]
  },
  {
   "cell_type": "code",
   "execution_count": null,
   "id": "d4f00d9b-6998-4e08-b4c0-bb8e38c12a74",
   "metadata": {},
   "outputs": [
    {
     "name": "stdout",
     "output_type": "stream",
     "text": [
      "Done  2  of  50  which is  4 %\n",
      "Done  4  of  50  which is  8 %\n",
      "Done  6  of  50  which is  12 %\n"
     ]
    }
   ],
   "source": [
    "epoch_num = 50\n",
    "hist_train = np.array([])\n",
    "hist_test = np.array([])\n",
    "acc_train = np.array([])\n",
    "acc_test = np.array([])\n",
    "\n",
    "for epoch in range(1, epoch_num+1):\n",
    "    \n",
    "    ep_hist_train, ep_hist_test = 0, 0\n",
    "    ep_acc_train, ep_acc_test = 0, 0\n",
    "    \n",
    "    model.train()\n",
    "    for X, Y in train:\n",
    "        optimizer.zero_grad()\n",
    "        y_pred = model(X)\n",
    "        l = loss(y_pred, Y)\n",
    "        l.backward()\n",
    "        optimizer.step()\n",
    "        \n",
    "        ep_hist_train += l.item()\n",
    "        ep_acc_train += (y_pred.argmax(dim=1) == Y).sum().item()\n",
    "    \n",
    "    model.eval()\n",
    "    for X, Y in test:        \n",
    "        y_pred = model(X)\n",
    "        l = loss(y_pred, Y)\n",
    "        \n",
    "        ep_hist_test += l.item()\n",
    "        ep_acc_test += (y_pred.argmax(dim=1) == Y).sum().item()\n",
    "    \n",
    "    hist_train = np.append(hist_train, ep_hist_train/len(Data_train))\n",
    "    hist_test = np.append(hist_test, ep_hist_test/len(Data_test))\n",
    "    acc_train = np.append(acc_train, ep_acc_train/len(Data_train)*100)\n",
    "    acc_test = np.append(acc_test, ep_acc_test/len(Data_test)*100)\n",
    "    \n",
    "    if (epoch % 2) == 0:\n",
    "        print('Done ', epoch, ' of ', epoch_num, ' which is ', \n",
    "              math.ceil(epoch/epoch_num*100), '%')\n",
    "\n",
    "print('Training Done')"
   ]
  },
  {
   "cell_type": "markdown",
   "id": "f1b56d34-c579-4434-91fa-4babb5967946",
   "metadata": {},
   "source": [
    "Построим графики Лосс-функции и точности на обучающей и тестовой выборках"
   ]
  },
  {
   "cell_type": "code",
   "execution_count": null,
   "id": "990f5803-6ad8-40cc-982b-1969dde38580",
   "metadata": {},
   "outputs": [],
   "source": [
    "plt.subplot(1, 2, 1)\n",
    "plt.plot(hist_test, label='Loss test')\n",
    "plt.plot(hist_train, label='Loss train')\n",
    "plt.grid()\n",
    "plt.legend()\n",
    "\n",
    "plt.subplot(1, 2, 2)\n",
    "plt.plot(acc_test, label='Accuracy test, %')\n",
    "plt.plot(acc_train, label='Accuracy train, %')\n",
    "plt.grid()\n",
    "plt.legend()"
   ]
  },
  {
   "cell_type": "code",
   "execution_count": null,
   "id": "588126bf-2a34-4c4d-b787-c0dccd68e5fb",
   "metadata": {},
   "outputs": [],
   "source": []
  }
 ],
 "metadata": {
  "kernelspec": {
   "display_name": "Python 3 (ipykernel)",
   "language": "python",
   "name": "python3"
  },
  "language_info": {
   "codemirror_mode": {
    "name": "ipython",
    "version": 3
   },
   "file_extension": ".py",
   "mimetype": "text/x-python",
   "name": "python",
   "nbconvert_exporter": "python",
   "pygments_lexer": "ipython3",
   "version": "3.10.7"
  }
 },
 "nbformat": 4,
 "nbformat_minor": 5
}
